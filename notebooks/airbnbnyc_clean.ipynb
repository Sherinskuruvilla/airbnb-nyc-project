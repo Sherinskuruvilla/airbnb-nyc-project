{
 "cells": [
  {
   "cell_type": "code",
   "execution_count": 314,
   "id": "c88c541c-3f7c-4f21-88da-56de2544c1c5",
   "metadata": {},
   "outputs": [],
   "source": [
    "import pandas as pd\n",
    "import numpy as np\n",
    "\n",
    "import matplotlib.pyplot as plt\n",
    "import seaborn as sns"
   ]
  },
  {
   "cell_type": "code",
   "execution_count": 316,
   "id": "6f3d908f-7e3c-4976-bf7f-0e0daa128150",
   "metadata": {
    "scrolled": true
   },
   "outputs": [
    {
     "data": {
      "text/html": [
       "<div>\n",
       "<style scoped>\n",
       "    .dataframe tbody tr th:only-of-type {\n",
       "        vertical-align: middle;\n",
       "    }\n",
       "\n",
       "    .dataframe tbody tr th {\n",
       "        vertical-align: top;\n",
       "    }\n",
       "\n",
       "    .dataframe thead th {\n",
       "        text-align: right;\n",
       "    }\n",
       "</style>\n",
       "<table border=\"1\" class=\"dataframe\">\n",
       "  <thead>\n",
       "    <tr style=\"text-align: right;\">\n",
       "      <th></th>\n",
       "      <th>id</th>\n",
       "      <th>listing_url</th>\n",
       "      <th>scrape_id</th>\n",
       "      <th>last_scraped</th>\n",
       "      <th>source</th>\n",
       "      <th>name</th>\n",
       "      <th>description</th>\n",
       "      <th>neighborhood_overview</th>\n",
       "      <th>picture_url</th>\n",
       "      <th>host_id</th>\n",
       "      <th>...</th>\n",
       "      <th>review_scores_communication</th>\n",
       "      <th>review_scores_location</th>\n",
       "      <th>review_scores_value</th>\n",
       "      <th>license</th>\n",
       "      <th>instant_bookable</th>\n",
       "      <th>calculated_host_listings_count</th>\n",
       "      <th>calculated_host_listings_count_entire_homes</th>\n",
       "      <th>calculated_host_listings_count_private_rooms</th>\n",
       "      <th>calculated_host_listings_count_shared_rooms</th>\n",
       "      <th>reviews_per_month</th>\n",
       "    </tr>\n",
       "  </thead>\n",
       "  <tbody>\n",
       "    <tr>\n",
       "      <th>0</th>\n",
       "      <td>2539</td>\n",
       "      <td>https://www.airbnb.com/rooms/2539</td>\n",
       "      <td>20250617032754</td>\n",
       "      <td>2025-06-17</td>\n",
       "      <td>city scrape</td>\n",
       "      <td>Superfast Wi-Fi.  Clean &amp; quiet home by the park</td>\n",
       "      <td>Bright, serene room in a renovated apartment h...</td>\n",
       "      <td>Close to Prospect Park and Historic Ditmas Park</td>\n",
       "      <td>https://a0.muscache.com/pictures/hosting/Hosti...</td>\n",
       "      <td>2787</td>\n",
       "      <td>...</td>\n",
       "      <td>5.0</td>\n",
       "      <td>4.75</td>\n",
       "      <td>4.88</td>\n",
       "      <td>NaN</td>\n",
       "      <td>f</td>\n",
       "      <td>6</td>\n",
       "      <td>1</td>\n",
       "      <td>5</td>\n",
       "      <td>0</td>\n",
       "      <td>0.08</td>\n",
       "    </tr>\n",
       "    <tr>\n",
       "      <th>1</th>\n",
       "      <td>2595</td>\n",
       "      <td>https://www.airbnb.com/rooms/2595</td>\n",
       "      <td>20250617032754</td>\n",
       "      <td>2025-06-17</td>\n",
       "      <td>city scrape</td>\n",
       "      <td>Skylit Midtown Manhattan Spacious Studio</td>\n",
       "      <td>Beautiful, spacious skylit studio in the heart...</td>\n",
       "      <td>Centrally located in the heart of Manhattan ju...</td>\n",
       "      <td>https://a0.muscache.com/pictures/hosting/Hosti...</td>\n",
       "      <td>2845</td>\n",
       "      <td>...</td>\n",
       "      <td>4.8</td>\n",
       "      <td>4.81</td>\n",
       "      <td>4.40</td>\n",
       "      <td>NaN</td>\n",
       "      <td>f</td>\n",
       "      <td>3</td>\n",
       "      <td>3</td>\n",
       "      <td>0</td>\n",
       "      <td>0</td>\n",
       "      <td>0.26</td>\n",
       "    </tr>\n",
       "    <tr>\n",
       "      <th>2</th>\n",
       "      <td>5136</td>\n",
       "      <td>https://www.airbnb.com/rooms/5136</td>\n",
       "      <td>20250617032754</td>\n",
       "      <td>2025-06-17</td>\n",
       "      <td>city scrape</td>\n",
       "      <td>Spacious Family Friendly Duplex w/ Patio + Yard</td>\n",
       "      <td>We welcome you to stay in our lovely 2 br, 130...</td>\n",
       "      <td>NaN</td>\n",
       "      <td>https://a0.muscache.com/pictures/miso/Hosting-...</td>\n",
       "      <td>7378</td>\n",
       "      <td>...</td>\n",
       "      <td>5.0</td>\n",
       "      <td>4.75</td>\n",
       "      <td>4.75</td>\n",
       "      <td>NaN</td>\n",
       "      <td>t</td>\n",
       "      <td>1</td>\n",
       "      <td>1</td>\n",
       "      <td>0</td>\n",
       "      <td>0</td>\n",
       "      <td>0.03</td>\n",
       "    </tr>\n",
       "    <tr>\n",
       "      <th>3</th>\n",
       "      <td>6848</td>\n",
       "      <td>https://www.airbnb.com/rooms/6848</td>\n",
       "      <td>20250617032754</td>\n",
       "      <td>2025-06-17</td>\n",
       "      <td>city scrape</td>\n",
       "      <td>Only 2 stops to Manhattan studio</td>\n",
       "      <td>Comfortable studio apartment with super comfor...</td>\n",
       "      <td>NaN</td>\n",
       "      <td>https://a0.muscache.com/pictures/e4f031a7-f146...</td>\n",
       "      <td>15991</td>\n",
       "      <td>...</td>\n",
       "      <td>4.8</td>\n",
       "      <td>4.69</td>\n",
       "      <td>4.58</td>\n",
       "      <td>NaN</td>\n",
       "      <td>f</td>\n",
       "      <td>1</td>\n",
       "      <td>1</td>\n",
       "      <td>0</td>\n",
       "      <td>0</td>\n",
       "      <td>1.00</td>\n",
       "    </tr>\n",
       "    <tr>\n",
       "      <th>4</th>\n",
       "      <td>6872</td>\n",
       "      <td>https://www.airbnb.com/rooms/6872</td>\n",
       "      <td>20250617032754</td>\n",
       "      <td>2025-06-17</td>\n",
       "      <td>previous scrape</td>\n",
       "      <td>Uptown Sanctuary w/ Private Bath (Month to Month)</td>\n",
       "      <td>This charming distancing-friendly month-to-mon...</td>\n",
       "      <td>This sweet Harlem sanctuary is a 10-20 minute ...</td>\n",
       "      <td>https://a0.muscache.com/pictures/miso/Hosting-...</td>\n",
       "      <td>16104</td>\n",
       "      <td>...</td>\n",
       "      <td>5.0</td>\n",
       "      <td>5.00</td>\n",
       "      <td>5.00</td>\n",
       "      <td>NaN</td>\n",
       "      <td>f</td>\n",
       "      <td>2</td>\n",
       "      <td>0</td>\n",
       "      <td>2</td>\n",
       "      <td>0</td>\n",
       "      <td>0.03</td>\n",
       "    </tr>\n",
       "  </tbody>\n",
       "</table>\n",
       "<p>5 rows × 79 columns</p>\n",
       "</div>"
      ],
      "text/plain": [
       "     id                        listing_url       scrape_id last_scraped  \\\n",
       "0  2539  https://www.airbnb.com/rooms/2539  20250617032754   2025-06-17   \n",
       "1  2595  https://www.airbnb.com/rooms/2595  20250617032754   2025-06-17   \n",
       "2  5136  https://www.airbnb.com/rooms/5136  20250617032754   2025-06-17   \n",
       "3  6848  https://www.airbnb.com/rooms/6848  20250617032754   2025-06-17   \n",
       "4  6872  https://www.airbnb.com/rooms/6872  20250617032754   2025-06-17   \n",
       "\n",
       "            source                                               name  \\\n",
       "0      city scrape   Superfast Wi-Fi.  Clean & quiet home by the park   \n",
       "1      city scrape           Skylit Midtown Manhattan Spacious Studio   \n",
       "2      city scrape    Spacious Family Friendly Duplex w/ Patio + Yard   \n",
       "3      city scrape                   Only 2 stops to Manhattan studio   \n",
       "4  previous scrape  Uptown Sanctuary w/ Private Bath (Month to Month)   \n",
       "\n",
       "                                         description  \\\n",
       "0  Bright, serene room in a renovated apartment h...   \n",
       "1  Beautiful, spacious skylit studio in the heart...   \n",
       "2  We welcome you to stay in our lovely 2 br, 130...   \n",
       "3  Comfortable studio apartment with super comfor...   \n",
       "4  This charming distancing-friendly month-to-mon...   \n",
       "\n",
       "                               neighborhood_overview  \\\n",
       "0    Close to Prospect Park and Historic Ditmas Park   \n",
       "1  Centrally located in the heart of Manhattan ju...   \n",
       "2                                                NaN   \n",
       "3                                                NaN   \n",
       "4  This sweet Harlem sanctuary is a 10-20 minute ...   \n",
       "\n",
       "                                         picture_url  host_id  ...  \\\n",
       "0  https://a0.muscache.com/pictures/hosting/Hosti...     2787  ...   \n",
       "1  https://a0.muscache.com/pictures/hosting/Hosti...     2845  ...   \n",
       "2  https://a0.muscache.com/pictures/miso/Hosting-...     7378  ...   \n",
       "3  https://a0.muscache.com/pictures/e4f031a7-f146...    15991  ...   \n",
       "4  https://a0.muscache.com/pictures/miso/Hosting-...    16104  ...   \n",
       "\n",
       "  review_scores_communication review_scores_location review_scores_value  \\\n",
       "0                         5.0                   4.75                4.88   \n",
       "1                         4.8                   4.81                4.40   \n",
       "2                         5.0                   4.75                4.75   \n",
       "3                         4.8                   4.69                4.58   \n",
       "4                         5.0                   5.00                5.00   \n",
       "\n",
       "  license instant_bookable calculated_host_listings_count  \\\n",
       "0     NaN                f                              6   \n",
       "1     NaN                f                              3   \n",
       "2     NaN                t                              1   \n",
       "3     NaN                f                              1   \n",
       "4     NaN                f                              2   \n",
       "\n",
       "  calculated_host_listings_count_entire_homes  \\\n",
       "0                                           1   \n",
       "1                                           3   \n",
       "2                                           1   \n",
       "3                                           1   \n",
       "4                                           0   \n",
       "\n",
       "  calculated_host_listings_count_private_rooms  \\\n",
       "0                                            5   \n",
       "1                                            0   \n",
       "2                                            0   \n",
       "3                                            0   \n",
       "4                                            2   \n",
       "\n",
       "  calculated_host_listings_count_shared_rooms reviews_per_month  \n",
       "0                                           0              0.08  \n",
       "1                                           0              0.26  \n",
       "2                                           0              0.03  \n",
       "3                                           0              1.00  \n",
       "4                                           0              0.03  \n",
       "\n",
       "[5 rows x 79 columns]"
      ]
     },
     "execution_count": 316,
     "metadata": {},
     "output_type": "execute_result"
    }
   ],
   "source": [
    "df = pd.read_csv(\"../data/raw/airbnbnyc2025.csv\")\n",
    "df.head()"
   ]
  },
  {
   "cell_type": "code",
   "execution_count": 317,
   "id": "fb332189-88bb-41ca-8fb8-6ea099df9bfc",
   "metadata": {},
   "outputs": [
    {
     "data": {
      "text/plain": [
       "(36322, 79)"
      ]
     },
     "execution_count": 317,
     "metadata": {},
     "output_type": "execute_result"
    }
   ],
   "source": [
    "df.shape"
   ]
  },
  {
   "cell_type": "code",
   "execution_count": 318,
   "id": "405bc5fa-6834-4e89-ba4c-c4acc2292052",
   "metadata": {},
   "outputs": [
    {
     "data": {
      "text/plain": [
       "id                                                int64\n",
       "listing_url                                      object\n",
       "scrape_id                                         int64\n",
       "last_scraped                                     object\n",
       "source                                           object\n",
       "                                                 ...   \n",
       "calculated_host_listings_count                    int64\n",
       "calculated_host_listings_count_entire_homes       int64\n",
       "calculated_host_listings_count_private_rooms      int64\n",
       "calculated_host_listings_count_shared_rooms       int64\n",
       "reviews_per_month                               float64\n",
       "Length: 79, dtype: object"
      ]
     },
     "execution_count": 318,
     "metadata": {},
     "output_type": "execute_result"
    }
   ],
   "source": [
    "df.dtypes"
   ]
  },
  {
   "cell_type": "code",
   "execution_count": 320,
   "id": "f9db69f8-2053-473a-b230-5df124016788",
   "metadata": {},
   "outputs": [
    {
     "data": {
      "text/plain": [
       "Index(['id', 'listing_url', 'scrape_id', 'last_scraped', 'source', 'name',\n",
       "       'description', 'neighborhood_overview', 'picture_url', 'host_id',\n",
       "       'host_url', 'host_name', 'host_since', 'host_location', 'host_about',\n",
       "       'host_response_time', 'host_response_rate', 'host_acceptance_rate',\n",
       "       'host_is_superhost', 'host_thumbnail_url', 'host_picture_url',\n",
       "       'host_neighbourhood', 'host_listings_count',\n",
       "       'host_total_listings_count', 'host_verifications',\n",
       "       'host_has_profile_pic', 'host_identity_verified', 'neighbourhood',\n",
       "       'neighbourhood_cleansed', 'neighbourhood_group_cleansed', 'latitude',\n",
       "       'longitude', 'property_type', 'room_type', 'accommodates', 'bathrooms',\n",
       "       'bathrooms_text', 'bedrooms', 'beds', 'amenities', 'price',\n",
       "       'minimum_nights', 'maximum_nights', 'minimum_minimum_nights',\n",
       "       'maximum_minimum_nights', 'minimum_maximum_nights',\n",
       "       'maximum_maximum_nights', 'minimum_nights_avg_ntm',\n",
       "       'maximum_nights_avg_ntm', 'calendar_updated', 'has_availability',\n",
       "       'availability_30', 'availability_60', 'availability_90',\n",
       "       'availability_365', 'calendar_last_scraped', 'number_of_reviews',\n",
       "       'number_of_reviews_ltm', 'number_of_reviews_l30d', 'availability_eoy',\n",
       "       'number_of_reviews_ly', 'estimated_occupancy_l365d',\n",
       "       'estimated_revenue_l365d', 'first_review', 'last_review',\n",
       "       'review_scores_rating', 'review_scores_accuracy',\n",
       "       'review_scores_cleanliness', 'review_scores_checkin',\n",
       "       'review_scores_communication', 'review_scores_location',\n",
       "       'review_scores_value', 'license', 'instant_bookable',\n",
       "       'calculated_host_listings_count',\n",
       "       'calculated_host_listings_count_entire_homes',\n",
       "       'calculated_host_listings_count_private_rooms',\n",
       "       'calculated_host_listings_count_shared_rooms', 'reviews_per_month'],\n",
       "      dtype='object')"
      ]
     },
     "execution_count": 320,
     "metadata": {},
     "output_type": "execute_result"
    }
   ],
   "source": [
    "df.columns"
   ]
  },
  {
   "cell_type": "markdown",
   "id": "e49bda2b-40c4-4e5d-b46d-bf80f21697bb",
   "metadata": {},
   "source": [
    "checking null values in price column"
   ]
  },
  {
   "cell_type": "code",
   "execution_count": 325,
   "id": "1bf9ba91-f125-4695-a3d5-512347d8d6fc",
   "metadata": {},
   "outputs": [
    {
     "data": {
      "text/plain": [
       "np.int64(14863)"
      ]
     },
     "execution_count": 325,
     "metadata": {},
     "output_type": "execute_result"
    }
   ],
   "source": [
    "df['price'].isnull().sum()"
   ]
  },
  {
   "cell_type": "markdown",
   "id": "f13aebac-fa7e-4fa4-a830-99cc46c60cfa",
   "metadata": {},
   "source": [
    "Since price has a lot of null values which is our target column dopping the null values"
   ]
  },
  {
   "cell_type": "code",
   "execution_count": 328,
   "id": "e31f1844-4e85-4fb8-ba5b-fc1635a6e404",
   "metadata": {},
   "outputs": [],
   "source": [
    "df.dropna(subset=['price'], inplace=True)"
   ]
  },
  {
   "cell_type": "markdown",
   "id": "ac1d1c50-77cf-4124-8f6b-10c95e4a1f72",
   "metadata": {},
   "source": [
    "checking values in price column"
   ]
  },
  {
   "cell_type": "code",
   "execution_count": 331,
   "id": "4e3811aa-02ac-484d-9825-e99f51690039",
   "metadata": {},
   "outputs": [
    {
     "data": {
      "text/plain": [
       "array(['$285.00', '$240.00', '$215.00', ..., '$1,643.00', '$8.00',\n",
       "       '$993.00'], dtype=object)"
      ]
     },
     "execution_count": 331,
     "metadata": {},
     "output_type": "execute_result"
    }
   ],
   "source": [
    "df['price'].unique()"
   ]
  },
  {
   "cell_type": "markdown",
   "id": "2a15ffda-6271-44b3-a3c8-2f21617c88bd",
   "metadata": {},
   "source": [
    "Cleaning Price column and converting to float"
   ]
  },
  {
   "cell_type": "code",
   "execution_count": 334,
   "id": "754f67e0-b40e-4cc1-853c-9fb9bb33f61f",
   "metadata": {},
   "outputs": [],
   "source": [
    "df['price'] = df['price'].str.replace('[$,]', '', regex=True).astype(float)"
   ]
  },
  {
   "cell_type": "markdown",
   "id": "06564862-5730-463e-b1b1-e96821c85830",
   "metadata": {},
   "source": [
    "Adding a new column with total number of amenities"
   ]
  },
  {
   "cell_type": "code",
   "execution_count": 337,
   "id": "75e206fc-4bf7-48c1-a488-42dc96e1a333",
   "metadata": {},
   "outputs": [],
   "source": [
    "df['total_amenities'] = df['amenities'].apply(len)\n"
   ]
  },
  {
   "cell_type": "code",
   "execution_count": 339,
   "id": "78c7d7e7-7b12-43d7-82e6-1d73b5adae84",
   "metadata": {},
   "outputs": [
    {
     "data": {
      "image/png": "[encoded data removed]",
      "text/plain": [
       "<Figure size 640x480 with 1 Axes>"
      ]
     },
     "metadata": {},
     "output_type": "display_data"
    }
   ],
   "source": [
    "sns.scatterplot(data=df, x='bathrooms', y='price')\n",
    "plt.show()"
   ]
  },
  {
   "cell_type": "code",
   "execution_count": 341,
   "id": "bcd4c354-74ae-4a27-a906-fc87b1493d9b",
   "metadata": {},
   "outputs": [
    {
     "data": {
      "image/png": "[encoded data removed]",
      "text/plain": [
       "<Figure size 640x480 with 1 Axes>"
      ]
     },
     "metadata": {},
     "output_type": "display_data"
    }
   ],
   "source": [
    "sns.scatterplot(data=df, x='total_amenities', y='price')\n",
    "plt.show()"
   ]
  },
  {
   "cell_type": "code",
   "execution_count": 343,
   "id": "8d64cd8f-0092-4e2d-b364-ebc1e19544d3",
   "metadata": {},
   "outputs": [
    {
     "data": {
      "image/png": "[encoded data removed]",
      "text/plain": [
       "<Figure size 640x480 with 1 Axes>"
      ]
     },
     "metadata": {},
     "output_type": "display_data"
    }
   ],
   "source": [
    "\n",
    "sns.barplot(data=df, x='host_is_superhost', y='price', estimator='mean') \n",
    "plt.title(\"Bar Plot \")\n",
    "plt.xticks(rotation=45)  \n",
    "plt.tight_layout()\n",
    "plt.show()"
   ]
  },
  {
   "cell_type": "code",
   "execution_count": 345,
   "id": "fd57311f-7def-49ea-9a3e-bc732ddf1618",
   "metadata": {},
   "outputs": [
    {
     "data": {
      "image/png": "[encoded data removed]",
      "text/plain": [
       "<Figure size 640x480 with 1 Axes>"
      ]
     },
     "metadata": {},
     "output_type": "display_data"
    }
   ],
   "source": [
    "\n",
    "sns.barplot(data=df, x='neighbourhood_group_cleansed', y='price', estimator='mean') \n",
    "plt.title(\"Bar Plot \")\n",
    "plt.xticks(rotation=45)  \n",
    "plt.tight_layout()\n",
    "plt.show()"
   ]
  },
  {
   "cell_type": "markdown",
   "id": "7be00327-75be-42a3-b92f-b702a4338fc8",
   "metadata": {},
   "source": [
    "Dropping scrapping info columns 'id','listing_url','scrape_id','last_scraped' and some other columns which are incomplete or similar info."
   ]
  },
  {
   "cell_type": "code",
   "execution_count": 348,
   "id": "2dd8a422-e112-4c35-ae16-0586285ef786",
   "metadata": {},
   "outputs": [],
   "source": [
    "\n",
    "df.drop(['host_since','host_listings_count','license','host_identity_verified','neighbourhood','host_verifications','description','host_response_time',\n",
    "         'host_response_rate','host_neighbourhood','host_total_listings_count', 'host_acceptance_rate',\n",
    "         'id','listing_url','scrape_id','last_scraped','source','neighborhood_overview','picture_url','host_url',\n",
    "         'host_name','host_about','host_location','host_thumbnail_url','host_picture_url','host_has_profile_pic',\n",
    "         'calendar_last_scraped','bathrooms_text' ,'minimum_minimum_nights',\n",
    "         'maximum_minimum_nights', 'minimum_maximum_nights',\n",
    "         'beds', 'amenities','number_of_reviews_ltm', 'number_of_reviews_l30d', 'availability_eoy',\n",
    "         'number_of_reviews_ly', 'estimated_occupancy_l365d',\n",
    "         'estimated_revenue_l365d', 'first_review', 'last_review',\n",
    "         'maximum_maximum_nights', 'minimum_nights_avg_ntm',\n",
    "         'maximum_nights_avg_ntm', 'calendar_updated', 'has_availability','instant_bookable','availability_30', \n",
    "         'availability_60', 'availability_90', 'calculated_host_listings_count_entire_homes',\n",
    "         'calculated_host_listings_count_private_rooms', 'calculated_host_listings_count_shared_rooms',\n",
    "         'review_scores_accuracy', 'review_scores_cleanliness', 'review_scores_checkin',\n",
    "         'review_scores_communication', 'review_scores_location','review_scores_rating',\n",
    "         'review_scores_value','bathrooms','minimum_nights'],axis=1, inplace=True)"
   ]
  },
  {
   "cell_type": "code",
   "execution_count": 350,
   "id": "9a602a1d-4db9-45db-9455-3698694c2b6b",
   "metadata": {},
   "outputs": [
    {
     "data": {
      "text/plain": [
       "name                                 0\n",
       "host_id                              0\n",
       "host_is_superhost                  394\n",
       "neighbourhood_cleansed               0\n",
       "neighbourhood_group_cleansed         0\n",
       "latitude                             0\n",
       "longitude                            0\n",
       "property_type                        0\n",
       "room_type                            0\n",
       "accommodates                         0\n",
       "bedrooms                            82\n",
       "price                                0\n",
       "maximum_nights                       0\n",
       "availability_365                     0\n",
       "number_of_reviews                    0\n",
       "calculated_host_listings_count       0\n",
       "reviews_per_month                 6333\n",
       "total_amenities                      0\n",
       "dtype: int64"
      ]
     },
     "execution_count": 350,
     "metadata": {},
     "output_type": "execute_result"
    }
   ],
   "source": [
    "df.isna().sum()"
   ]
  },
  {
   "cell_type": "code",
   "execution_count": 352,
   "id": "e2646fe7-8037-4764-b6db-6a0ee5139ef6",
   "metadata": {},
   "outputs": [
    {
     "name": "stderr",
     "output_type": "stream",
     "text": [
      "C:\\Users\\sheri\\AppData\\Local\\Temp\\ipykernel_22300\\2338834235.py:1: FutureWarning: A value is trying to be set on a copy of a DataFrame or Series through chained assignment using an inplace method.\n",
      "The behavior will change in pandas 3.0. This inplace method will never work because the intermediate object on which we are setting values always behaves as a copy.\n",
      "\n",
      "For example, when doing 'df[col].method(value, inplace=True)', try using 'df.method({col: value}, inplace=True)' or df[col] = df[col].method(value) instead, to perform the operation inplace on the original object.\n",
      "\n",
      "\n",
      "  df['reviews_per_month'].fillna(0,inplace=True)\n",
      "C:\\Users\\sheri\\AppData\\Local\\Temp\\ipykernel_22300\\2338834235.py:2: FutureWarning: A value is trying to be set on a copy of a DataFrame or Series through chained assignment using an inplace method.\n",
      "The behavior will change in pandas 3.0. This inplace method will never work because the intermediate object on which we are setting values always behaves as a copy.\n",
      "\n",
      "For example, when doing 'df[col].method(value, inplace=True)', try using 'df.method({col: value}, inplace=True)' or df[col] = df[col].method(value) instead, to perform the operation inplace on the original object.\n",
      "\n",
      "\n",
      "  df['bedrooms'].fillna(0,inplace=True)\n",
      "C:\\Users\\sheri\\AppData\\Local\\Temp\\ipykernel_22300\\2338834235.py:3: FutureWarning: A value is trying to be set on a copy of a DataFrame or Series through chained assignment using an inplace method.\n",
      "The behavior will change in pandas 3.0. This inplace method will never work because the intermediate object on which we are setting values always behaves as a copy.\n",
      "\n",
      "For example, when doing 'df[col].method(value, inplace=True)', try using 'df.method({col: value}, inplace=True)' or df[col] = df[col].method(value) instead, to perform the operation inplace on the original object.\n",
      "\n",
      "\n",
      "  df['host_is_superhost'].fillna('No info available',inplace=True)\n"
     ]
    }
   ],
   "source": [
    "df['reviews_per_month'].fillna(0,inplace=True)\n",
    "df['bedrooms'].fillna(0,inplace=True)\n",
    "df['host_is_superhost'].fillna('No info available',inplace=True)"
   ]
  },
  {
   "cell_type": "code",
   "execution_count": 354,
   "id": "0b4401b7-5731-4d7c-bcc1-708e96360227",
   "metadata": {},
   "outputs": [
    {
     "data": {
      "text/plain": [
       "name                              0\n",
       "host_id                           0\n",
       "host_is_superhost                 0\n",
       "neighbourhood_cleansed            0\n",
       "neighbourhood_group_cleansed      0\n",
       "latitude                          0\n",
       "longitude                         0\n",
       "property_type                     0\n",
       "room_type                         0\n",
       "accommodates                      0\n",
       "bedrooms                          0\n",
       "price                             0\n",
       "maximum_nights                    0\n",
       "availability_365                  0\n",
       "number_of_reviews                 0\n",
       "calculated_host_listings_count    0\n",
       "reviews_per_month                 0\n",
       "total_amenities                   0\n",
       "dtype: int64"
      ]
     },
     "execution_count": 354,
     "metadata": {},
     "output_type": "execute_result"
    }
   ],
   "source": [
    "df.isna().sum()"
   ]
  },
  {
   "cell_type": "code",
   "execution_count": 356,
   "id": "75d58759-3f8c-46c4-bb7f-c8feb30681e2",
   "metadata": {},
   "outputs": [
    {
     "data": {
      "text/plain": [
       "(21459, 18)"
      ]
     },
     "execution_count": 356,
     "metadata": {},
     "output_type": "execute_result"
    }
   ],
   "source": [
    "df.shape"
   ]
  },
  {
   "cell_type": "code",
   "execution_count": 358,
   "id": "8679d1bc-18bc-41cd-a10a-1ccc2c88b48f",
   "metadata": {},
   "outputs": [],
   "source": [
    "df.to_csv('../data/clean/airbnbnyc_cleaned.csv', index=False)\n"
   ]
  },
  {
   "cell_type": "code",
   "execution_count": null,
   "id": "f0036787-a120-4b31-912b-6a907a62e23f",
   "metadata": {},
   "outputs": [],
   "source": []
  }
 ],
 "metadata": {
  "kernelspec": {
   "display_name": "venv",
   "language": "python",
   "name": "venv"
  },
  "language_info": {
   "codemirror_mode": {
    "name": "ipython",
    "version": 3
   },
   "file_extension": ".py",
   "mimetype": "text/x-python",
   "name": "python",
   "nbconvert_exporter": "python",
   "pygments_lexer": "ipython3",
   "version": "3.12.3"
  }
 },
 "nbformat": 4,
 "nbformat_minor": 5
}
